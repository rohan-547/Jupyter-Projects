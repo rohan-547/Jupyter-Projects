{
 "cells": [
  {
   "cell_type": "code",
   "execution_count": 5,
   "metadata": {
    "scrolled": true
   },
   "outputs": [
    {
     "name": "stdout",
     "output_type": "stream",
     "text": [
      "ENTER NUMBER OF CHILDREN YOU WILL BE HAVING[IF PREGNANT]: 0\n",
      "ENTER THE AMOUNT OF GLUCOSE [LIKE: 140]: 137\n",
      "ENTER YOUR BP [LIKE: 80]: 40\n",
      "ENTER YOUR SKIN THICKNESS LEVEL: 37\n",
      "ENTER YOUR INSULIN [LIKE: 140]: 180\n",
      "ENTER YOUR BODY MASS INDEX [LIKE: 21.4]: 45\n",
      "ENTER YOUR DIABETES PEDIGREE FUNCTION: 2.6\n",
      "ENTER YOUR AGE : 49\n",
      "YOU MAYBE DIABETIC !!!\n"
     ]
    },
    {
     "data": {
      "text/html": [
       "<img src=\"SAD.png\" width=\"200\" height=\"400\">"
      ],
      "text/plain": [
       "<IPython.core.display.HTML object>"
      ]
     },
     "metadata": {},
     "output_type": "display_data"
    },
    {
     "data": {
      "text/html": [
       "<a href=\"https://www.apollohospitals.com/patient-care/value-added-services/apollo-sugar-clinics\">CLICK HERE TO CONSULT A DIABETES CONSULTANT</a>"
      ],
      "text/plain": [
       "<IPython.core.display.HTML object>"
      ]
     },
     "metadata": {},
     "output_type": "display_data"
    },
    {
     "data": {
      "text/html": [
       "<a href=\"https://www.google.co.in/maps/dir/13.0023424,77.627392/Apollo+Sugar+Clinic+%26+Hospital+%7C+Best+Diabetes,+Thyroid,+PCOD+Clinics+in+Bangalore,+Apollo+Sugar+Clinic,+Banashankari,+1st+Floor,+No:+24+18th+Main+Road+Padmanabha+Nagar+South,+Banashankari,+Bengaluru,+Karnataka+560076/@12.9576384,77.5576413,13z/data=!3m1!4b1!4m9!4m8!1m1!4e1!1m5!1m1!1s0x3bae3e396ce0cad1:0x418ecd10b0d84b95!2m2!1d77.5548331!2d12.9167373\">CLICK HERE TO VIEW DIRECTIONS TO APOLLO SUGAR HOSPITAL</a>"
      ],
      "text/plain": [
       "<IPython.core.display.HTML object>"
      ]
     },
     "metadata": {},
     "output_type": "display_data"
    },
    {
     "data": {
      "text/html": [
       "<a href=\"https://www.healthline.com/nutrition/15-ways-to-lower-blood-sugar\">CLICK HERE TO LEARN HOW TO CURE DIABETES</a>"
      ],
      "text/plain": [
       "<IPython.core.display.HTML object>"
      ]
     },
     "metadata": {},
     "output_type": "display_data"
    },
    {
     "data": {
      "text/html": [
       "<a href=\"https://en.wikipedia.org/wiki/Diabetes\">CLICK HERE TO GET A DETAILED INFORMATION ON DIABETES</a>"
      ],
      "text/plain": [
       "<IPython.core.display.HTML object>"
      ]
     },
     "metadata": {},
     "output_type": "display_data"
    },
    {
     "data": {
      "text/html": [
       "<a href=\"https://www.healthline.com/nutrition/16-best-foods-for-diabetics\">CLICK HERE TO GET A DIET CHART FOR DIABETIC PATIENT</a>"
      ],
      "text/plain": [
       "<IPython.core.display.HTML object>"
      ]
     },
     "metadata": {},
     "output_type": "display_data"
    },
    {
     "data": {
      "text/html": [
       "<a href=\"https://www.sutterhealth.org/pdf/incentive-content/diabetic-meal-plan.pdf\">CLICK HERE TO GET A PDF RELATED TO A DIET CHART FOR DIABETIC PATIENT</a>"
      ],
      "text/plain": [
       "<IPython.core.display.HTML object>"
      ]
     },
     "metadata": {},
     "output_type": "display_data"
    },
    {
     "data": {
      "text/html": [
       "<a href=\"http://main.diabetes.org/dorg/PDFs/awareness-programs/hhm/what_can_i_eat-best_foods-American_Diabetes_Association.pdf\">CLICK HERE TO GET A PDF RELATED TO ANOTHER DIET CHART FOR DIABETIC PATIENT</a>"
      ],
      "text/plain": [
       "<IPython.core.display.HTML object>"
      ]
     },
     "metadata": {},
     "output_type": "display_data"
    }
   ],
   "source": [
    "import pandas as pd\n",
    "from sklearn.tree import DecisionTreeClassifier\n",
    "from IPython.core.display import display, HTML\n",
    "from IPython.display import Image\n",
    "\n",
    "DIABETES = pd.read_csv(\"pima-data.csv\")\n",
    "X = DIABETES.drop(columns = [\"Outcome\"])\n",
    "y = DIABETES[\"Outcome\"]\n",
    "\n",
    "PREGNANCY_ENTERED = int(input(\"ENTER NUMBER OF CHILDREN YOU WILL BE HAVING[IF PREGNANT]: \"))\n",
    "GLUCOSE_ENTERED = float(input(\"ENTER THE AMOUNT OF GLUCOSE [LIKE: 140]: \"))\n",
    "BP_ENTERED = float(input(\"ENTER YOUR BP [LIKE: 80]: \"))\n",
    "SKIN_THICKNESS_ENTERED = float(input(\"ENTER YOUR SKIN THICKNESS LEVEL: \"))\n",
    "INSULIN_ENTERED = float(input(\"ENTER YOUR INSULIN [LIKE: 140]: \"))\n",
    "BODY_MASS_INDEX_ENTERED = float(input(\"ENTER YOUR BODY MASS INDEX [LIKE: 21.4]: \"))\n",
    "DIABETES_PEDIGREE_FUNCTION_ENTERED = float(input(\"ENTER YOUR DIABETES PEDIGREE FUNCTION: \"))\n",
    "AGE_ENTERED = float(input(\"ENTER YOUR AGE : \"))\n",
    "\n",
    "\n",
    "model = DecisionTreeClassifier()\n",
    "model.fit(X , y)\n",
    "predictions = model.predict([ [PREGNANCY_ENTERED, GLUCOSE_ENTERED, BP_ENTERED, SKIN_THICKNESS_ENTERED\n",
    "                               , INSULIN_ENTERED, BODY_MASS_INDEX_ENTERED, DIABETES_PEDIGREE_FUNCTION_ENTERED, AGE_ENTERED] ])\n",
    "if predictions == 1:\n",
    "    print(\"YOU MAYBE DIABETIC !!!\")\n",
    "    display(HTML(\"\"\"<img src=\"SAD.png\" width=\"200\" height=\"400\">\"\"\")) \n",
    "    display(HTML(\"\"\"<a href=\"https://www.apollohospitals.com/patient-care/value-added-services/apollo-sugar-clinics\">CLICK HERE TO CONSULT A DIABETES CONSULTANT</a>\"\"\"))\n",
    "    display(HTML(\"\"\"<a href=\"https://www.google.co.in/maps/dir/13.0023424,77.627392/Apollo+Sugar+Clinic+%26+Hospital+%7C+Best+Diabetes,+Thyroid,+PCOD+Clinics+in+Bangalore,+Apollo+Sugar+Clinic,+Banashankari,+1st+Floor,+No:+24+18th+Main+Road+Padmanabha+Nagar+South,+Banashankari,+Bengaluru,+Karnataka+560076/@12.9576384,77.5576413,13z/data=!3m1!4b1!4m9!4m8!1m1!4e1!1m5!1m1!1s0x3bae3e396ce0cad1:0x418ecd10b0d84b95!2m2!1d77.5548331!2d12.9167373\">CLICK HERE TO VIEW DIRECTIONS TO APOLLO SUGAR HOSPITAL</a>\"\"\"))\n",
    "    display(HTML(\"\"\"<a href=\"https://www.healthline.com/nutrition/15-ways-to-lower-blood-sugar\">CLICK HERE TO LEARN HOW TO CURE DIABETES</a>\"\"\"))\n",
    "    display(HTML(\"\"\"<a href=\"https://en.wikipedia.org/wiki/Diabetes\">CLICK HERE TO GET A DETAILED INFORMATION ON DIABETES</a>\"\"\"))\n",
    "    display(HTML(\"\"\"<a href=\"https://www.healthline.com/nutrition/16-best-foods-for-diabetics\">CLICK HERE TO GET A DIET CHART FOR DIABETIC PATIENT</a>\"\"\"))\n",
    "    display(HTML(\"\"\"<a href=\"https://www.sutterhealth.org/pdf/incentive-content/diabetic-meal-plan.pdf\">CLICK HERE TO GET A PDF RELATED TO A DIET CHART FOR DIABETIC PATIENT</a>\"\"\"))\n",
    "    display(HTML(\"\"\"<a href=\"http://main.diabetes.org/dorg/PDFs/awareness-programs/hhm/what_can_i_eat-best_foods-American_Diabetes_Association.pdf\">CLICK HERE TO GET A PDF RELATED TO ANOTHER DIET CHART FOR DIABETIC PATIENT</a>\"\"\"))\n",
    "else:\n",
    "    print(\" YOU ARE HEALTHY\")\n",
    "    display(HTML(\"\"\"<img src=\"SMILEY.png\" width=\"200\" height=\"400\">\"\"\"))"
   ]
  },
  {
   "cell_type": "code",
   "execution_count": 4,
   "metadata": {},
   "outputs": [
    {
     "data": {
      "text/html": [
       "<div>\n",
       "<style scoped>\n",
       "    .dataframe tbody tr th:only-of-type {\n",
       "        vertical-align: middle;\n",
       "    }\n",
       "\n",
       "    .dataframe tbody tr th {\n",
       "        vertical-align: top;\n",
       "    }\n",
       "\n",
       "    .dataframe thead th {\n",
       "        text-align: right;\n",
       "    }\n",
       "</style>\n",
       "<table border=\"1\" class=\"dataframe\">\n",
       "  <thead>\n",
       "    <tr style=\"text-align: right;\">\n",
       "      <th></th>\n",
       "      <th>Pregnancies</th>\n",
       "      <th>Glucose</th>\n",
       "      <th>BloodPressure</th>\n",
       "      <th>SkinThickness</th>\n",
       "      <th>Insulin</th>\n",
       "      <th>BMI</th>\n",
       "      <th>DiabetesPedigreeFunction</th>\n",
       "      <th>Age</th>\n",
       "      <th>Outcome</th>\n",
       "    </tr>\n",
       "  </thead>\n",
       "  <tbody>\n",
       "    <tr>\n",
       "      <th>0</th>\n",
       "      <td>6</td>\n",
       "      <td>148</td>\n",
       "      <td>72</td>\n",
       "      <td>35</td>\n",
       "      <td>0</td>\n",
       "      <td>33.6</td>\n",
       "      <td>0.627</td>\n",
       "      <td>50</td>\n",
       "      <td>1</td>\n",
       "    </tr>\n",
       "    <tr>\n",
       "      <th>1</th>\n",
       "      <td>1</td>\n",
       "      <td>85</td>\n",
       "      <td>66</td>\n",
       "      <td>29</td>\n",
       "      <td>0</td>\n",
       "      <td>26.6</td>\n",
       "      <td>0.351</td>\n",
       "      <td>31</td>\n",
       "      <td>0</td>\n",
       "    </tr>\n",
       "    <tr>\n",
       "      <th>2</th>\n",
       "      <td>8</td>\n",
       "      <td>183</td>\n",
       "      <td>64</td>\n",
       "      <td>0</td>\n",
       "      <td>0</td>\n",
       "      <td>23.3</td>\n",
       "      <td>0.672</td>\n",
       "      <td>32</td>\n",
       "      <td>1</td>\n",
       "    </tr>\n",
       "    <tr>\n",
       "      <th>3</th>\n",
       "      <td>1</td>\n",
       "      <td>89</td>\n",
       "      <td>66</td>\n",
       "      <td>23</td>\n",
       "      <td>94</td>\n",
       "      <td>28.1</td>\n",
       "      <td>0.167</td>\n",
       "      <td>21</td>\n",
       "      <td>0</td>\n",
       "    </tr>\n",
       "    <tr>\n",
       "      <th>4</th>\n",
       "      <td>0</td>\n",
       "      <td>137</td>\n",
       "      <td>40</td>\n",
       "      <td>35</td>\n",
       "      <td>168</td>\n",
       "      <td>43.1</td>\n",
       "      <td>2.288</td>\n",
       "      <td>33</td>\n",
       "      <td>1</td>\n",
       "    </tr>\n",
       "    <tr>\n",
       "      <th>...</th>\n",
       "      <td>...</td>\n",
       "      <td>...</td>\n",
       "      <td>...</td>\n",
       "      <td>...</td>\n",
       "      <td>...</td>\n",
       "      <td>...</td>\n",
       "      <td>...</td>\n",
       "      <td>...</td>\n",
       "      <td>...</td>\n",
       "    </tr>\n",
       "    <tr>\n",
       "      <th>763</th>\n",
       "      <td>10</td>\n",
       "      <td>101</td>\n",
       "      <td>76</td>\n",
       "      <td>48</td>\n",
       "      <td>180</td>\n",
       "      <td>32.9</td>\n",
       "      <td>0.171</td>\n",
       "      <td>63</td>\n",
       "      <td>0</td>\n",
       "    </tr>\n",
       "    <tr>\n",
       "      <th>764</th>\n",
       "      <td>2</td>\n",
       "      <td>122</td>\n",
       "      <td>70</td>\n",
       "      <td>27</td>\n",
       "      <td>0</td>\n",
       "      <td>36.8</td>\n",
       "      <td>0.340</td>\n",
       "      <td>27</td>\n",
       "      <td>0</td>\n",
       "    </tr>\n",
       "    <tr>\n",
       "      <th>765</th>\n",
       "      <td>5</td>\n",
       "      <td>121</td>\n",
       "      <td>72</td>\n",
       "      <td>23</td>\n",
       "      <td>112</td>\n",
       "      <td>26.2</td>\n",
       "      <td>0.245</td>\n",
       "      <td>30</td>\n",
       "      <td>0</td>\n",
       "    </tr>\n",
       "    <tr>\n",
       "      <th>766</th>\n",
       "      <td>1</td>\n",
       "      <td>126</td>\n",
       "      <td>60</td>\n",
       "      <td>0</td>\n",
       "      <td>0</td>\n",
       "      <td>30.1</td>\n",
       "      <td>0.349</td>\n",
       "      <td>47</td>\n",
       "      <td>1</td>\n",
       "    </tr>\n",
       "    <tr>\n",
       "      <th>767</th>\n",
       "      <td>1</td>\n",
       "      <td>93</td>\n",
       "      <td>70</td>\n",
       "      <td>31</td>\n",
       "      <td>0</td>\n",
       "      <td>30.4</td>\n",
       "      <td>0.315</td>\n",
       "      <td>23</td>\n",
       "      <td>0</td>\n",
       "    </tr>\n",
       "  </tbody>\n",
       "</table>\n",
       "<p>768 rows × 9 columns</p>\n",
       "</div>"
      ],
      "text/plain": [
       "     Pregnancies  Glucose  BloodPressure  SkinThickness  Insulin   BMI  \\\n",
       "0              6      148             72             35        0  33.6   \n",
       "1              1       85             66             29        0  26.6   \n",
       "2              8      183             64              0        0  23.3   \n",
       "3              1       89             66             23       94  28.1   \n",
       "4              0      137             40             35      168  43.1   \n",
       "..           ...      ...            ...            ...      ...   ...   \n",
       "763           10      101             76             48      180  32.9   \n",
       "764            2      122             70             27        0  36.8   \n",
       "765            5      121             72             23      112  26.2   \n",
       "766            1      126             60              0        0  30.1   \n",
       "767            1       93             70             31        0  30.4   \n",
       "\n",
       "     DiabetesPedigreeFunction  Age  Outcome  \n",
       "0                       0.627   50        1  \n",
       "1                       0.351   31        0  \n",
       "2                       0.672   32        1  \n",
       "3                       0.167   21        0  \n",
       "4                       2.288   33        1  \n",
       "..                        ...  ...      ...  \n",
       "763                     0.171   63        0  \n",
       "764                     0.340   27        0  \n",
       "765                     0.245   30        0  \n",
       "766                     0.349   47        1  \n",
       "767                     0.315   23        0  \n",
       "\n",
       "[768 rows x 9 columns]"
      ]
     },
     "execution_count": 4,
     "metadata": {},
     "output_type": "execute_result"
    }
   ],
   "source": [
    "DIABETES\n"
   ]
  },
  {
   "cell_type": "code",
   "execution_count": null,
   "metadata": {},
   "outputs": [],
   "source": []
  }
 ],
 "metadata": {
  "kernelspec": {
   "display_name": "Python 3 (ipykernel)",
   "language": "python",
   "name": "python3"
  },
  "language_info": {
   "codemirror_mode": {
    "name": "ipython",
    "version": 3
   },
   "file_extension": ".py",
   "mimetype": "text/x-python",
   "name": "python",
   "nbconvert_exporter": "python",
   "pygments_lexer": "ipython3",
   "version": "3.9.7"
  }
 },
 "nbformat": 4,
 "nbformat_minor": 4
}
